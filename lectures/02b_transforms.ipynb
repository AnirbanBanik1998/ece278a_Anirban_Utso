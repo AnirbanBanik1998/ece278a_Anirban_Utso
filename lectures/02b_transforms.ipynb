{
 "cells": [
  {
   "cell_type": "markdown",
   "metadata": {
    "slideshow": {
     "slide_type": "slide"
    }
   },
   "source": [
    "# Image Operators And Transforms\n",
    "\n",
    "Nina Miolane, UC Santa Barbara"
   ]
  },
  {
   "cell_type": "markdown",
   "metadata": {},
   "source": [
    "<center><img src=\"figs/02_main.png\" width=1200px alt=\"default\"/></center>\n"
   ]
  },
  {
   "cell_type": "markdown",
   "metadata": {
    "slideshow": {
     "slide_type": "slide"
    }
   },
   "source": [
    "# Last Lecture\n",
    "\n",
    "- **01: Image Formation Models (Ch. 2)**\n",
    "- 02: Image Operators and Transforms (Ch. 3)\n",
    "- 03: Feature Detection, Matching, Segmentation (Ch. 7)\n",
    "- 04: Image Alignment and Stitching (Ch. 8)\n",
    "- 05: 3D Reconstruction (Ch. 13)\n",
    "\n",
    "We have seen how images are formed based on:\n",
    "- 3D scene elements, \n",
    "- camera intrinsic parameters,\n",
    "- camera extrinsic parameters."
   ]
  },
  {
   "cell_type": "markdown",
   "metadata": {
    "slideshow": {
     "slide_type": "slide"
    }
   },
   "source": [
    "# This Lecture\n",
    "\n",
    "- 01: Image Formation Models (Ch. 2)\n",
    "- **02: Image Operators and Transforms (Ch. 3)**\n",
    "- 03: Feature Detection, Matching, Segmentation (Ch. 7)\n",
    "- 04: Image Alignment and Stitching (Ch. 8)\n",
    "- 05: 3D Reconstruction (Ch. 13)\n",
    "\n",
    "We will look at our first image processing operators and transforms, which:\n",
    "- convert an image into another image,\n",
    "- make the image more suited to answer a question in the downstream analysis."
   ]
  },
  {
   "cell_type": "markdown",
   "metadata": {
    "slideshow": {
     "slide_type": "slide"
    }
   },
   "source": [
    "# Image Operators\n",
    "\n",
    "- [Point Operators](#sec-syllabus)\n",
    "\n",
    "- [Neighborhood Operators and Linear Filtering](#sec-ece)\n",
    "\n",
    "- **[Fourier Transforms](#sec-ece)**\n",
    "\n",
    "- [Pyramids and Wavelets](#sec-ece)"
   ]
  },
  {
   "cell_type": "markdown",
   "metadata": {
    "slideshow": {
     "slide_type": "slide"
    }
   },
   "source": [
    "# Frequencies in Images\n",
    "\n",
    "We saw linear neighborhood operators, also called linear filters, that were:\n",
    "- low-pass filters,\n",
    "- band-pass and high-pass filters,\n",
    "\n",
    "and gave an intuitive explanation of it. \n",
    "\n",
    "Now, we show how Fourier analysis can give use insights into analyzing:\n",
    "- the frequencies within images,\n",
    "- and with this, the frequency characteristics of various filters.\n"
   ]
  },
  {
   "cell_type": "markdown",
   "metadata": {
    "slideshow": {
     "slide_type": "slide"
    }
   },
   "source": [
    "$\\color{#EF5645}{\\text{Fourier series}}$: Consider a real-valued function $s$ that is integrable on a interval of length $P$. The following expansion of $s$ is called its Fourier series:\n",
    "$$s_N(x) = \\frac{a_0}{2} + \\sum_{n=1}^N \\left(a_n \\cos(2\\pi\\frac{n}{P}x) + b_n \\sin(2\\pi\\frac{n}{P}x) \\right) = \\sum_{n=-N}^N c_n \\exp(i2\\pi\\frac{n}{P}x),$$\n",
    "\n",
    "- $a_n, b_n$ are the Fourier coefficients from the sine-cosine form\n",
    "- $c_n$ are the Fourier coefficients from the exponential form, also denoted $S[n]$.\n",
    "- $\\omega = 2\\pi\\frac{n}{P}$ are the (angular) frequencies, unique in $[0, 2\\pi]$, \n",
    "- $f = \\frac{n}{P}$ are the frequencies."
   ]
  },
  {
   "cell_type": "markdown",
   "metadata": {
    "cell_style": "split"
   },
   "source": [
    "<center><img src=\"figs/02_fourier_series_1.png\" width=300px alt=\"default\"/></center>"
   ]
  },
  {
   "cell_type": "markdown",
   "metadata": {
    "cell_style": "split"
   },
   "source": [
    "<center><img src=\"figs/02_fourier_series_2.png\" width=300px alt=\"default\"/></center>"
   ]
  },
  {
   "cell_type": "markdown",
   "metadata": {
    "slideshow": {
     "slide_type": "slide"
    }
   },
   "source": [
    "Can we get the coefficients from the original function, and back? $s \\leftrightarrow \\{c_n = S[n]\\}_n$.\n",
    "\n",
    "<center><img src=\"figs/02_fourier_series_2.png\" width=300px alt=\"default\"/></center>"
   ]
  },
  {
   "cell_type": "markdown",
   "metadata": {
    "slideshow": {
     "slide_type": "slide"
    }
   },
   "source": [
    "# 1D (Continuous) Fourier Transform\n",
    "\n",
    "$\\color{#EF5645}{\\text{Fourier analysis}}$: is a method for expressing a function as a sum of periodic components, and for recovering the signal from those components. \n",
    "\n",
    "$\\color{#EF5645}{\\text{The Fourier transform }} \\mathcal{F}$ of a periodic function, $s_P$ with period P is:\n",
    "\n",
    "$$\\mathcal{F}(s)[n] = S[n]={\\frac {1}{P}}\\int_{P}s_{P}(t)\\cdot e^{-i2 \\pi {\\frac{n}{P}}t}dt,\\quad n\\in \\mathbb{Z} \\quad \\text{or}\\quad \\mathcal{F}(s)[\\omega] = S[\\omega]={\\frac {1}{P}}\\int_{P}s_{P}(t)\\cdot e^{-i\\omega t}dt, \\quad \\omega = 2\\pi\\frac{n}{P}, n \\in \\mathbb{Z}$$  \n",
    "\n",
    "\n",
    "<center><img src=\"figs/02_fourier_series_2.png\" width=300px alt=\"default\"/></center>\n",
    "\n",
    "We say that $s$ is defined in real space and $S$ is defined in Fourier space."
   ]
  },
  {
   "cell_type": "markdown",
   "metadata": {
    "slideshow": {
     "slide_type": "slide"
    }
   },
   "source": [
    "# Amplitude and Phase\n",
    "\n",
    "$\\color{#EF5645}{\\text{Amplitude and Phase}}$: Fourier transforms are complex-valued in general. As is common with complex numbers, it is often convenient to express them in terms of magnitude $A$ and phase $\\phi$: $S[n] = Ae^{iφ}$. Roughly:\n",
    "- $A$ tells \"how much\" of a certain frequency component is present,\n",
    "- $\\phi$ tells \"where\" the frequency component is.\n"
   ]
  },
  {
   "cell_type": "markdown",
   "metadata": {
    "slideshow": {
     "slide_type": "slide"
    }
   },
   "source": [
    "# 1D Inverse Fourier Transform\n",
    "\n",
    "$\\color{#EF5645}{\\text{The inverse Fourier transform }} \\mathcal{F}^{-1}$ gives the Fourier series that represents $s_P$ as a sum of a potentially infinite number of complex exponential functions, each with an amplitude and phase specified by one of the coefficients:\n",
    "\n",
    "$$\\mathcal{F}^{-1}(S)[t] = s_{P}(t) = \\sum _{n=-\\infty }^{\\infty }S[\\omega]\\cdot e^{i2\\pi {\\frac {n}{P}}t} =\\sum_{\\omega} S[\\omega]\\cdot e^{i\\omega t} .$$\n",
    "\n",
    "\n",
    "<center><img src=\"figs/02_fourier_series_2.png\" width=300px alt=\"default\"/></center>\n"
   ]
  },
  {
   "cell_type": "markdown",
   "metadata": {
    "slideshow": {
     "slide_type": "slide"
    }
   },
   "source": [
    "# 1D Discrete Fourier Transform (DFT)\n",
    "\n",
    "When both the function and its Fourier transform are replaced with discretized counterparts, it is called the discrete Fourier transform (DFT).\n",
    "\n",
    "- The discrete 1D image is an array of size $P$: $[s(0), ..., s(P-1)]$.\n",
    "\n",
    "$\\color{#EF5645}{\\text{The discrete Fourier transform (DFT) }} \\mathcal{F}$ is:\n",
    "$$S[n]= \\frac{1}{P} \\sum_{p=0}^{P-1} s(p)e^{−i 2\\pi \\frac{n}{P}p} \\quad \\text{or} \\quad S[\\omega]= \\frac{1}{P} \\sum_{p=0}^{P-1} s(p)e^{−i \\omega p}.$$\n",
    "\n",
    "Note that we use $p$ to denote the 1D discrete spatial coordinate here, as opposed to $i, j$, in order to avoid confusion with the imaginary $i$ (sometimes also denoted $j$).\n"
   ]
  },
  {
   "cell_type": "markdown",
   "metadata": {
    "slideshow": {
     "slide_type": "slide"
    }
   },
   "source": [
    "# 2D Fourier Transforms\n",
    "\n",
    "We have 2 coordinates of space $(x, y)$, and 2 coordinates of frequencies $(ω_x, ω_y)$.\n",
    "\n",
    "\n",
    "$\\color{#EF5645}{\\text{2D Fourier Transforms}}$\n",
    "- Continuous functions: \n",
    "$$S[ω_x, ω_y]= \\int_{-\\infty}^{+\\infty} \\int_{-\\infty}^{+\\infty} s(x, y)e^{-i(ω_xx+ω_yy)}dxdy$$\n",
    "- Discrete functions: \n",
    "$$S[\\omega_x, \\omega_y]= \\frac{1}{MN} \\sum_{x=0}^{M-1} \\sum_{y=0}^{N-1} s(x, y)e^{-i(ω_xx+ω_yy)},$$\n",
    "\n",
    "where M and N are the width and height of the image.\n"
   ]
  },
  {
   "cell_type": "markdown",
   "metadata": {
    "slideshow": {
     "slide_type": "slide"
    }
   },
   "source": [
    "# Remark on FT Images\n",
    "\n",
    "$\\color{#EF5645}{\\text{Remark:}}$ FT images often only consider the magnitude $A$. \n",
    "\n",
    "<center><img src=\"figs/02_ft_image.png\" width=300px alt=\"default\"/></center>\n",
    "\n",
    "The images displayed are horizontal cosines of 8 cycles, where one is shifted laterally from the other by 1/2 cycle, i.e. $\\pi$ in phase:\n",
    "- same FT magnitude images,\n",
    "- FT phase images would have been different, but we often do not display them.\n",
    "\n",
    "When we look at a FT image, we only have a partial information!"
   ]
  },
  {
   "cell_type": "markdown",
   "metadata": {
    "slideshow": {
     "slide_type": "slide"
    }
   },
   "source": [
    "# Properties of Fourier Transforms\n",
    "\n",
    "$\\color{#6D7D33}{\\text{Properties}}$: The Fourier transform has the following properties:\n",
    "- Linearity: $\\mathscr{F}( af_1 + bf_2) = aF_1(u,v) + bF_2(u,v)$\n",
    "- Scaling: $\\mathscr{F}( f(\\alpha x, \\beta y))= \\frac{1}{|\\alpha \\beta|} F(u/\\alpha, v/\\beta)$\n",
    "- Shift:\n",
    "  - $\\mathscr{F}(f(x-\\alpha, y-\\beta)) = F(u,v) e^{-i2\\pi (u\\alpha + v\\beta)}$,\n",
    "  - $\\mathscr{F}(f(x,y)e^{i 2\\pi (u_0\\alpha + v_0\\beta)}) = F(u-u_0 , v-v_0)$\n",
    "- Rotation: $\\mathscr{F}(\\mathscr{F}(f(x,y)))= f(-x, -y)$\n",
    "\n",
    "where we use $F_1, F_2, F$ to denote the Fourier transforms of $f_1, f_2, f$.\n"
   ]
  },
  {
   "cell_type": "markdown",
   "metadata": {
    "slideshow": {
     "slide_type": "slide"
    }
   },
   "source": [
    "# Convolution Theorem\n",
    "\n",
    "$\\color{#6D7D33}{\\text{Theorem}}$: The following result constitutes the Convolution Theorem:\n",
    "    $$\\mathscr{F}(f_1 * f_2) = F_1. F_2$$\n",
    "    $$ \\mathscr{F}(f_1 .f_2) = F_1 * F_2, $$\n",
    "\n",
    "where we use $F_1, F_2$ to denote the Fourier transforms of $f_1, f_2$.\n"
   ]
  },
  {
   "cell_type": "markdown",
   "metadata": {
    "slideshow": {
     "slide_type": "slide"
    }
   },
   "source": [
    "# 1D Fourier Transform to Analyze Filters\n",
    "\n",
    "How can we analyze what a given filter does to high, medium, and low frequencies? \n",
    "\n",
    "- pass a periodic signal through the filter: $s(p)=e^{i \\omega p}$\n",
    "- observe by how much it is attenuated. \n",
    "\n",
    "Convolving $s(p)$ with a filter of kernel $h$ gives : $o(p)= h(p) * s(p) = A_h e^{i2\\pi \\phi_h}e^{i \\omega p }$ with the same frequency but different:\n",
    "- Magnitude $A$: gain or magnitude of the filter, which is the magnitude of $\\mathcal{F}(h)[\\omega]$\n",
    "- Phase $\\phi$: shift or phase of the filter, which is the phase of $\\mathcal{F}(h)[\\omega]$\n",
    "\n",
    "$\\color{#047C91}{\\text{Exercise}}$: Show the above assertion (about \"eigenfunctions\" of convolutions)."
   ]
  },
  {
   "cell_type": "markdown",
   "metadata": {
    "slideshow": {
     "slide_type": "slide"
    }
   },
   "source": [
    "# Fourier Transform of a Filter\n",
    "\n",
    "In this example:\n",
    "- $S$ has a single nonzero amplitude $A=1$ with $\\phi = 0$ at frequency $\\omega$\n",
    "- Sending that signal tells us the value of $\\mathcal{F}(h)[\\omega]$: \n",
    "    - = amplitude $A=A_h$ and phase $\\phi = \\phi_h$ at frequency $\\omega$ for $\\mathcal{F}[h]$.\n",
    "\n",
    "<center><img src=\"figs/02_sinus.png\" width=700px alt=\"default\"/></center>\n",
    "\n",
    "In general:\n",
    "- The whole $\\mathcal{F}(h)$ tells us which frequencies are amplified or attenuated by the filter."
   ]
  },
  {
   "cell_type": "markdown",
   "metadata": {
    "slideshow": {
     "slide_type": "slide"
    }
   },
   "source": [
    "# Computational Considerations\n",
    "\n",
    "$\\color{#EF5645}{\\text{Remark}}$: By denoting DFT the Discrete Fourier Transform:\n",
    "- At face value, the DFT takes $O(P^2)$ operations (multiply-adds) to evaluate. \n",
    "- The algorithm Fast Fourier Transform (FFT) requires only $O(P \\log_2 P )$ operations.\n",
    "\n",
    "for a 1D discrete signal of length $P$.\n"
   ]
  },
  {
   "cell_type": "markdown",
   "metadata": {
    "slideshow": {
     "slide_type": "slide"
    }
   },
   "source": [
    "# 1D Fourier Transforms of Filters\n",
    "\n",
    "Low-pass filters considered previously, in their 1D version:\n",
    "\n",
    "<center><img src=\"figs/02_ft_lowpass.png\" width=700px alt=\"default\"/></center>\n"
   ]
  },
  {
   "cell_type": "markdown",
   "metadata": {
    "slideshow": {
     "slide_type": "slide"
    }
   },
   "source": [
    "# 1D Fourier Transforms of Filters\n",
    "\n",
    "Edge and corner detection filters considered previously, in their 1D version:\n",
    "\n",
    "<center><img src=\"figs/02_ft_bandpass.png\" width=700px alt=\"default\"/></center>\n"
   ]
  },
  {
   "cell_type": "markdown",
   "metadata": {
    "slideshow": {
     "slide_type": "slide"
    }
   },
   "source": [
    "# 2D Fourier Transforms of Filters\n",
    "\n",
    "<center><img src=\"figs/02_ft_low.png\" width=600px alt=\"default\"/></center>"
   ]
  },
  {
   "cell_type": "markdown",
   "metadata": {
    "slideshow": {
     "slide_type": "slide"
    }
   },
   "source": [
    "# 2D Fourier Transforms of Filters\n",
    "\n",
    "<center><img src=\"figs/02_ft_high.png\" width=600px alt=\"default\"/></center>\n"
   ]
  },
  {
   "cell_type": "markdown",
   "metadata": {
    "slideshow": {
     "slide_type": "slide"
    }
   },
   "source": [
    "# 2D Fourier Transforms of Filters\n",
    "\n",
    "<center><img src=\"figs/02_ft_deriv.png\" width=600px alt=\"default\"/></center>\n"
   ]
  },
  {
   "cell_type": "markdown",
   "metadata": {
    "slideshow": {
     "slide_type": "slide"
    }
   },
   "source": [
    "# Image Operators\n",
    "\n",
    "- [Point Operators](#sec-syllabus)\n",
    "\n",
    "- [Neighborhood Operators and Linear Filtering](#sec-ece)\n",
    "\n",
    "- [Fourier Transforms](#sec-ece)\n",
    "\n",
    "- **[Pyramids and Wavelets](#sec-ece)**"
   ]
  },
  {
   "cell_type": "markdown",
   "metadata": {
    "slideshow": {
     "slide_type": "slide"
    }
   },
   "source": [
    "# We Have Seen\n",
    "\n",
    "- how to modify the image's intensity characteristics:\n",
    "    - point by point\n",
    "    - neighborhood by neighbordhood: \n",
    "        - led us to convolution and linear filters\n",
    "- the Fourier transform, explaining what the filters were doing to images.\n",
    "\n",
    "$\\rightarrow$ image is mapped to an image (of the same size) through an operator."
   ]
  },
  {
   "cell_type": "markdown",
   "metadata": {
    "cell_style": "split"
   },
   "source": [
    "<center><img src=\"figs/02_main.png\" width=500px alt=\"default\"/></center>"
   ]
  },
  {
   "cell_type": "markdown",
   "metadata": {
    "cell_style": "split"
   },
   "source": [
    "<center><img src=\"figs/02_edges.png\" width=500px alt=\"default\"/></center>"
   ]
  },
  {
   "cell_type": "markdown",
   "metadata": {
    "cell_style": "split",
    "slideshow": {
     "slide_type": "slide"
    }
   },
   "source": [
    "# Pyramids of Images\n",
    "\n",
    "We transform one image into a pyramid of images:\n",
    "\n",
    "- Upsample or downsample images\n",
    "  - upsample: might be needed to compare it to another image\n",
    "  - downsample: for compression\n",
    "- Pyramid of images, because:\n",
    "    - additional multiscale\n",
    "    - useful in practice for multiscale detection\n",
    "    \n",
    "    "
   ]
  },
  {
   "cell_type": "markdown",
   "metadata": {
    "cell_style": "split"
   },
   "source": [
    "<center><img src=\"figs/02_mona_pyr.png\" width=400px alt=\"default\"/></center>\n",
    "\n",
    "<center>Traditional image pyramid: each level has half the resolution (width and height), and hence a quarter of the pixels, of its parent level.</center>"
   ]
  },
  {
   "cell_type": "markdown",
   "metadata": {
    "slideshow": {
     "slide_type": "slide"
    }
   },
   "source": [
    "# Interpolation or Upsampling\n",
    "\n",
    "$\\color{#EF5645}{\\text{Interpolation}}$ of an image $f$, also called upsampling of $f$, is performed by:\n",
    "- selecting an upsampling rate $r$ and an \"interpolation kernel\" $h$,\n",
    "- convolving the image with it such as:\n",
    "$$ g(i,j )= \\sum_{k,l} f(k, l)h(i − rk,j − rl).$$\n",
    "$\\color{#EF5645}{\\text{Remark}}$: This formula is related to the discrete convolution formula, except that we now have $r$ that multiplies $k$ and $l$.\n",
    "\n",
    "<center><img src=\"figs/02_upsampling.png\" width=400px alt=\"default\"/></center>"
   ]
  },
  {
   "cell_type": "markdown",
   "metadata": {
    "slideshow": {
     "slide_type": "slide"
    }
   },
   "source": [
    "# What Kernels Make Good Interpolators?\n",
    "\n",
    "- Depends on the application and the computational time\n",
    "- Linear smoothing kernels (e.g. the bilinear kernel) can be used\n",
    "- Most graphics cards use the bilinear kernel\n",
    "- Most photo editing packages using bicubic interpolation, with a often set to -1.\n",
    "\n",
    "<center><img src=\"figs/02_bicubic.png\" width=900px alt=\"default\"/></center>\n",
    "\n",
    "- High quality interpolator: \"windowed sinc function\".\n"
   ]
  },
  {
   "cell_type": "markdown",
   "metadata": {
    "slideshow": {
     "slide_type": "slide"
    }
   },
   "source": [
    "# What Kernels Make Good Interpolators?\n",
    "\n",
    "<center><img src=\"figs/02_interpolation_tire.png\" width=900px alt=\"default\"/></center>\n"
   ]
  },
  {
   "cell_type": "markdown",
   "metadata": {
    "slideshow": {
     "slide_type": "slide"
    }
   },
   "source": [
    "# Decimation or Downsampling\n",
    "\n",
    "$\\color{#EF5645}{\\text{Decimation}}$ of an image $f$, also called downsampling, is performed by:\n",
    "- selecting an downsampling rate $r$ and a low-pass filter $h$,\n",
    "- convolving the image $f$ with the filter,\n",
    "- keep every r-th sample (or only evaluate the convolution at every r-th sample):\n",
    "\n",
    "$$ g(i,j )= \\sum_{k,l} f(k, l)h(i − \\frac{k}{r},j −\\frac{l}{r}).$$\n",
    "\n",
    "$\\color{#EF5645}{\\text{Remark}}$: Convolution avoids aliasing (distortion/artifact on a reconstructed signal).\n",
    "\n",
    "<center><img src=\"figs/02_downsampling.png\" width=600px alt=\"default\"/></center>"
   ]
  },
  {
   "cell_type": "markdown",
   "metadata": {
    "slideshow": {
     "slide_type": "slide"
    }
   },
   "source": [
    "# Which Smoothing Kernels are Good Decimators?\n",
    "\n",
    "- Depends on the application (downstream task, or display to the user) and computational time\n",
    "- Bilinear filter: commonly used\n",
    "- Higher quality filter: \"windowed sinc\"\n",
    "\n",
    "<center><img src=\"figs/02_decimation_filters.png\" width=750px alt=\"default\"/></center>"
   ]
  },
  {
   "attachments": {
    "image.png": {
     "image/png": "[encoded data removed]"
    }
   },
   "cell_type": "markdown",
   "metadata": {
    "slideshow": {
     "slide_type": "slide"
    }
   },
   "source": [
    "# Pyramids\n",
    "\n",
    "Uses for Pyramids:\n",
    "- speed-up coarse-to-fine search algorithms, \n",
    "- to look for objects or patterns at different scales,\n",
    "- perform multi-resolution blending operations.\n",
    " \n",
    " ![image.png](attachment:image.png)"
   ]
  },
  {
   "cell_type": "markdown",
   "metadata": {
    "slideshow": {
     "slide_type": "slide"
    }
   },
   "source": [
    "# Pyramids\n",
    "\n",
    "Two main types in increasing level of complexity:\n",
    "- Gaussian\n",
    "- Laplacian"
   ]
  },
  {
   "cell_type": "markdown",
   "metadata": {
    "cell_style": "center",
    "slideshow": {
     "slide_type": "slide"
    }
   },
   "source": [
    "# Gaussian Pyramid\n",
    "\n",
    "$\\color{#003660}{\\text{Algorithm:}}$ At each iteration $k$, an operator $G_k$ transforms $g_k$ into image $g_{k+1}$:\n",
    "1. Convolve the image with a low-pass filter\n",
    "  - E.g. 4-th binomial filter $b_4 = [1, 4, 6, 4, 1] / 16$, normalized to sum to 1.\n",
    "2. Subsample by a factor of 2 the result.\n"
   ]
  },
  {
   "cell_type": "markdown",
   "metadata": {
    "cell_style": "split"
   },
   "source": [
    "$\\rightarrow$ generates a sequence of images, subsequent ones being smaller, lower resolution versions of the earlier ones."
   ]
  },
  {
   "cell_type": "markdown",
   "metadata": {
    "cell_style": "split"
   },
   "source": [
    "<center><img src=\"figs/02_gaussian_block.png\" width=300px alt=\"default\"/></center>"
   ]
  },
  {
   "cell_type": "markdown",
   "metadata": {
    "slideshow": {
     "slide_type": "slide"
    }
   },
   "source": [
    "# Gaussian Pyramid\n",
    "\n",
    "<center><img src=\"figs/02_gaussian_pyr.png\" width=900px alt=\"default\"/></center>"
   ]
  },
  {
   "cell_type": "markdown",
   "metadata": {
    "slideshow": {
     "slide_type": "slide"
    }
   },
   "source": [
    "# From Gaussian to Laplacian Pyramid\n",
    "\n",
    "Gaussian pyramid:\n",
    "- each level losses some of the fine image details available in the previous level. \n",
    "\n",
    "Laplacian pyramid:\n",
    "- represent, at each level, what is in a Gaussian pyramid image of one level, but not at the level below it."
   ]
  },
  {
   "cell_type": "markdown",
   "metadata": {
    "cell_style": "center",
    "slideshow": {
     "slide_type": "slide"
    }
   },
   "source": [
    "# Laplacian Pyramid\n",
    "\n",
    "\n",
    "$\\color{#003660}{\\text{Algorithm}}$: At each iteration $k$, starting from an image $g_k$:\n",
    "- Compute $g_{k+1}$ using the block from the Gaussian pyramid,\n",
    "- Expanding the lower-resolution image $g_{k+1}$ to the same pixel resolution as the neighboring higher-resolution image $g_k$.\n",
    "- Subtract the two."
   ]
  },
  {
   "cell_type": "markdown",
   "metadata": {
    "cell_style": "center"
   },
   "source": [
    "<center><img src=\"figs/02_laplace_block.png\" width=220px alt=\"default\"/></center>"
   ]
  },
  {
   "cell_type": "markdown",
   "metadata": {
    "slideshow": {
     "slide_type": "slide"
    }
   },
   "source": [
    "# Laplacian Pyramid\n",
    "\n",
    "<center><img src=\"figs/02_laplace_pyr0.png\" width=500px alt=\"default\"/></center>\n",
    "\n",
    "<center><img src=\"figs/02_laplace_pyr1.png\" width=1200px alt=\"default\"/></center>"
   ]
  },
  {
   "cell_type": "markdown",
   "metadata": {
    "slideshow": {
     "slide_type": "slide"
    }
   },
   "source": [
    "# Laplace Pyramid: Application\n",
    "\n",
    "<center><img src=\"figs/02_lap_app0.png\" width=1000px alt=\"default\"/></center>\n",
    "\n"
   ]
  },
  {
   "cell_type": "markdown",
   "metadata": {
    "cell_style": "split"
   },
   "source": [
    "<center><img src=\"figs/02_lap_app1.png\" width=300px alt=\"default\"/></center>"
   ]
  },
  {
   "cell_type": "markdown",
   "metadata": {
    "cell_style": "split"
   },
   "source": [
    "<center><img src=\"figs/02_lap_app2.png\" width=300px alt=\"default\"/></center>"
   ]
  },
  {
   "cell_type": "markdown",
   "metadata": {
    "slideshow": {
     "slide_type": "slide"
    }
   },
   "source": [
    "# Towards Wavelets\n",
    "\n",
    "Gaussian and Laplacian pyramids:\n",
    "- used extensively in computer vision applications\n",
    "- a method to represent an image at different scales\n",
    "\n",
    "Wavelet decompositition\n",
    "- = an alternative way to represent an image at different scales\n"
   ]
  },
  {
   "cell_type": "markdown",
   "metadata": {
    "slideshow": {
     "slide_type": "slide"
    }
   },
   "source": [
    "# Wavelets\n",
    "\n",
    "$\\color{#EF5645}{\\text{Wavelets}}$ are filters that:\n",
    "- localize a signal in both space and frequency,\n",
    "- are defined over a hierarchy of scales."
   ]
  },
  {
   "cell_type": "markdown",
   "metadata": {
    "slideshow": {
     "slide_type": "slide"
    }
   },
   "source": [
    "# Drawbacks of Fourier Analysis\n",
    "\n",
    "- Location information is stored in phases and difficult to extract. \n",
    "- The Fourier transform is very sensitive to changes in the function:\n",
    "    - Change of $O(\\epsilon)$ in one point of a discrete function...\n",
    "    - ...can cause as much as $O(\\epsilon)$ change in every Fourier coefficient. \n",
    "- Similarly:\n",
    "    - a change in any one Fourier coefficient... \n",
    "    - ...can cause a change of similar magnitude at every point in physical space.\n",
    "\n",
    "\n"
   ]
  },
  {
   "cell_type": "markdown",
   "metadata": {
    "slideshow": {
     "slide_type": "slide"
    }
   },
   "source": [
    "# Wavelets: Definition\n",
    "\n",
    "$\\color{#EF5645}{\\text{A wavelet}}$ is a function $\\psi$ that satisfies:\n",
    "- $\\int_{-\\infty}^{+\\infty} \\psi(x) dx = 0$\n",
    "- $\\int_{-\\infty}^{+\\infty} \\frac{|\\hat \\psi(\\omega)|^2}{\\omega} d\\omega = C_\\psi < \\infty$ where $\\hat \\psi$ denotes the Fourier transfor|m of $\\psi$.\n",
    "\n",
    "The second condition is necessary to ensure that a function can be reconstructed from a decomposition into wavelets.\n"
   ]
  },
  {
   "cell_type": "markdown",
   "metadata": {
    "slideshow": {
     "slide_type": "slide"
    }
   },
   "source": [
    "# Wavelet Families\n",
    "\n",
    "$\\color{#EF5645}{\\text{A wavelet family}}$ is a collection of functions obtained by shifting and dilating the graph of a wavelet. Specifically, a wavelet family with mother wavelet $\\psi$ consists of functions $\\psi_{a,b}$ of the form:\n",
    "$$\\psi_{a,b}(x) = \\frac{1}{\\sqrt{a}}\\psi\\left(\\frac{x - b}{a}\\right),$$\n",
    "where:\n",
    "- $b$ is the shift or center of $\\psi_{a, b}$ and $a > 0 $ is the scale.\n",
    "- If $a > 1$, then $\\psi_{a,b}$ is obtained by stretching the graph of $\\psi$.\n",
    "- If $a < 1$, then the graph of $\\psi$ is contracted. \n",
    "- The value $a$ corresponds to the notion of frequency in Fourier analysis."
   ]
  },
  {
   "cell_type": "markdown",
   "metadata": {
    "slideshow": {
     "slide_type": "slide"
    }
   },
   "source": [
    "# Well-Known Wavelets\n",
    "\n",
    "- Haar: first wavelet, introduced in 1909.\n",
    "\n",
    "<center><img src=\"figs/02_example_haar.jpg\" width=700px alt=\"default\"/></center>"
   ]
  },
  {
   "cell_type": "markdown",
   "metadata": {
    "slideshow": {
     "slide_type": "slide"
    }
   },
   "source": [
    "# Well-Known Wavelets\n",
    "\n",
    "- Mexican hat: useful for detection in computer vision.\n",
    "\n",
    "<center><img src=\"figs/02_example_mexican.jpg\" width=700px alt=\"default\"/></center>"
   ]
  },
  {
   "cell_type": "markdown",
   "metadata": {
    "slideshow": {
     "slide_type": "slide"
    }
   },
   "source": [
    "# Other Wavelets\n",
    "\n",
    "<center><img src=\"figs/02_more_waves.png\" width=700px alt=\"default\"/></center>"
   ]
  },
  {
   "cell_type": "markdown",
   "metadata": {
    "slideshow": {
     "slide_type": "slide"
    }
   },
   "source": [
    "# Continuous Wavelet Transform (CWT)\n",
    "\n",
    "$\\color{#EF5645}{\\text{The continuous wavelet transform (CWT)}}$ of a function $f$ is defined by:\n",
    "$$Wf(a, b) = \\int_{-\\infty}^{+\\infty} f(x) \\psi_{a, b}(x)dx.$$\n",
    "\n",
    "The inverse transform is given by:\n",
    "$$ f(x) = \\frac{1}{C_\\psi}\\int_{-\\infty}^{+\\infty}\\int_{-\\infty}^{+\\infty}\\frac{1}{|a|^{1/2}}Wf(a, b)\\psi_{a, b}(x) da db,$$\n",
    "where $C_\\psi$ is the constant coming from the definition of a wavelet. \n",
    "\n"
   ]
  },
  {
   "cell_type": "markdown",
   "metadata": {
    "slideshow": {
     "slide_type": "slide"
    }
   },
   "source": [
    "<center><img src=\"figs/02_fourier_wavelets.jpg\" width=600px alt=\"default\"/></center>\n"
   ]
  },
  {
   "cell_type": "markdown",
   "metadata": {
    "slideshow": {
     "slide_type": "slide"
    }
   },
   "source": [
    "# Discrete Wavelet Transform (DWT)\n",
    "\n",
    "$\\color{#EF5645}{\\text{The discrete wavelet transform (DWT)}}$ is defined just as the continuous wavelet transform, except only particular values of $a$ and $b$.\n",
    "\n",
    "For specific values of $a$ and $b$, it can be computed using the Fast Wavelet Transform, developed by Mallat.\n"
   ]
  },
  {
   "cell_type": "markdown",
   "metadata": {
    "slideshow": {
     "slide_type": "slide"
    }
   },
   "source": [
    "# An Orthogonal Family of Wavelets\n",
    "\n",
    "Given a mother wavelet $\\psi$, an orthogonal family of wavelets can be obtained by: \n",
    "- Choosing $a = 2^m$ and $b = n 2^m$, where $m$ and $n$ are integers.\n",
    "\n",
    "With these choices of $a$ and $b$, the DWT is given by:\n",
    "$$ Wf(m, n) = <\\psi_{m, n}, f> = \\sum_{k=0}^{p-1} \\psi_{m, n}(t_k)f(t_k)$$\n",
    "where: $\\psi_{m, n}(x) = 2^{-m/2}\\psi\\left( \\frac{x - n 2^m}{2^m} \\right).$\n",
    "\n",
    "\n",
    "The inverse transform is given by:\n",
    "$$ f(x) = \\sum_{m, n}\\psi_{m,n}(x) Wf(m, n).$$"
   ]
  },
  {
   "cell_type": "markdown",
   "metadata": {
    "slideshow": {
     "slide_type": "slide"
    }
   },
   "source": [
    "# Image Operators\n",
    "\n",
    "- [Point Operators](#sec-syllabus)\n",
    "\n",
    "- [Neighborhood Operators and Linear Filtering](#sec-ece)\n",
    "\n",
    "- [Fourier Transforms](#sec-ece)\n",
    "\n",
    "- [Pyramids and Wavelets](#sec-ece)"
   ]
  },
  {
   "cell_type": "markdown",
   "metadata": {
    "slideshow": {
     "slide_type": "slide"
    }
   },
   "source": []
  }
 ],
 "metadata": {
  "celltoolbar": "Slideshow",
  "kernelspec": {
   "display_name": "Python 3 (ipykernel)",
   "language": "python",
   "name": "python3"
  },
  "language_info": {
   "codemirror_mode": {
    "name": "ipython",
    "version": 3
   },
   "file_extension": ".py",
   "mimetype": "text/x-python",
   "name": "python",
   "nbconvert_exporter": "python",
   "pygments_lexer": "ipython3",
   "version": "3.9.9"
  }
 },
 "nbformat": 4,
 "nbformat_minor": 2
}
